{
 "cells": [
  {
   "attachments": {},
   "cell_type": "markdown",
   "metadata": {},
   "source": [
    "### **Project overview**\n",
    "\n",
    "This project aims to apply the knowledge acquired during the 14 months of Data Science Degree training given by Let's Code (currently Ada Tech).\n",
    "\n",
    "It will be divided into a few steps:\n",
    "\n",
    "* Data Processing + Feature Engineering\n",
    "* Exploratory Data Analysis (EDA)\n",
    "* Application of Machine Learning models\n",
    "* Model optimization\n",
    "\n",
    "At the end of this project we will have a model capable of predicting, based on the characteristics provided, what will be the evaluation (or grade) that a company or business could receive when registering to use the service.\n",
    "<br />\n",
    "<br />\n",
    "<br />"
   ]
  },
  {
   "attachments": {},
   "cell_type": "markdown",
   "metadata": {},
   "source": [
    "### **Background**\n",
    "\n",
    "<img src=\"https://business.yelp.com/wp-content/uploads/2022/03/social-sharing-2400x1254-1-1200x630.jpg\" width=\"400\" height=\"200\" />\n",
    "\n",
    "Founded in 2004, Yelp is a popular online directory for discovering local businesses ranging from bars, restaurants, and cafes to hairdressers, spas, and gas stations.\n",
    "\n",
    "You can search [Yelp](https://www.yelp.com.br/) via it's website or with the official apps on iOS and Android smart devices. Listings are sorted by business type and results are filtered by geographical location, price range, and unique features like outdoor seating, delivery service, or the ability to accept reservations.\n",
    "\n",
    "Yelp has a strong social aspect and encourages its users to leave written reviews, star ratings, and photos of their experience with each business they visit.\n",
    "\n",
    "Each Yelp account has a friends list that can be populated by connecting the app with Facebook and a smartphone or tablet's address book. Reviews posted on Yelp can also be reviewed by other users, while popular reviewers have the potential to be promoted to Yelp Elite status.\n",
    "<br />\n",
    "<br />\n",
    "<br />"
   ]
  },
  {
   "attachments": {},
   "cell_type": "markdown",
   "metadata": {},
   "source": [
    "### **Data overview**\n",
    "Yelp's dataset is a subset of your business, reviews, and user data for personal, educational, and academic use.\n",
    "\n",
    "[Link to download dataset](https://www.yelp.com/dataset)"
   ]
  },
  {
   "attachments": {},
   "cell_type": "markdown",
   "metadata": {},
   "source": [
    "This dataset consists of 6 files in JSON format:\n",
    "\n",
    "1. Business: Contains business data including location data, attributes, and categories\n",
    "2. Review: Contains full review text data including the user_id that wrote the review and the business_id the review is written for\n",
    "3. User: User data including the user's friend mapping and all the metadata associated with the user\n",
    "4. Checkin: Checkins on a business\n",
    "5. Tip: Tips written by a user on a business. Tips are shorter than reviews and tend to convey quick suggestions\n",
    "6. Photo: Contains photo data including the caption and classification (one of \"food\", \"drink\", \"menu\", \"inside\" or \"outside\")\n",
    "<br />\n",
    "<br />\n",
    "<br />"
   ]
  },
  {
   "attachments": {},
   "cell_type": "markdown",
   "metadata": {},
   "source": [
    "### **Data dictionary**\n",
    "\n",
    "[Link for data dictionary](./SOURCES/1_Data_Dictionary.ipynb)\n",
    "<br />\n",
    "<br />\n",
    "<br />"
   ]
  },
  {
   "attachments": {},
   "cell_type": "markdown",
   "metadata": {},
   "source": [
    "### **Project milestones**\n",
    "\n",
    "1. Business\n",
    "    * [Data processing + feature engineering](./SOURCES/2_Business_DATA_PROCESSING.ipynb) [Done]\n",
    "    * [EDA](./SOURCES/3_Business_EDA.ipynb) [Done]\n",
    "    * [Application of Machine Learning models](./SOURCES/4_Business_ML.ipynb) [In development]"
   ]
  },
  {
   "attachments": {},
   "cell_type": "markdown",
   "metadata": {},
   "source": [
    "04/05/2023"
   ]
  }
 ],
 "metadata": {
  "kernelspec": {
   "display_name": "Python 3.9.5 64-bit",
   "language": "python",
   "name": "python3"
  },
  "language_info": {
   "codemirror_mode": {
    "name": "ipython",
    "version": 3
   },
   "file_extension": ".py",
   "mimetype": "text/x-python",
   "name": "python",
   "nbconvert_exporter": "python",
   "pygments_lexer": "ipython3",
   "version": "3.11.2"
  },
  "orig_nbformat": 4,
  "vscode": {
   "interpreter": {
    "hash": "c9f6bc6e44df4cd9d5495b313982f52e3be4c1b2e56e3a5a86617fa1d9dab216"
   }
  }
 },
 "nbformat": 4,
 "nbformat_minor": 2
}
