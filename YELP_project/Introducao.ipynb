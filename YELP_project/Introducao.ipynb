{
 "cells": [
  {
   "attachments": {},
   "cell_type": "markdown",
   "metadata": {},
   "source": [
    "### **Visão geral do projeto**\n",
    "\n",
    "Esse projeto tem como objetivo aplicar os conhecimentos adquiridos durante os 14 meses de duração do treinamento Data Science Degree ministrado pela Let's Code (atualmente Ada Tech).\n",
    "\n",
    "Ele será dividido em algumas etapas:\n",
    "* Análise exploratória dos dados (EDA)\n",
    "* Data Wrangling + Feature Engineering\n",
    "* Data visualization\n",
    "* Aplicação de modelos de Machine Learning\n",
    "* Otimização de modelos\n",
    "\n",
    "Ao final desse projeto teremos um modelo capaz de predizer, com base nas características fornecidas, qual será a avaliação (ou nota) que uma empresa ou negócio poderia receber ao se cadastrar para utilizar o serviço.\n",
    "<br />\n",
    "<br />\n",
    "<br />"
   ]
  },
  {
   "attachments": {},
   "cell_type": "markdown",
   "metadata": {},
   "source": [
    "### **Contexto**\n",
    "\n",
    "<img src=\"https://business.yelp.com/wp-content/uploads/2022/03/social-sharing-2400x1254-1-1200x630.jpg\" width=\"400\" height=\"200\" />\n",
    "\n",
    "Fundado em 2004, o Yelp é um serviço popular para descobrir negócios locais, desde bares, restaurantes e cafés a cabeleireiros, spas e postos de gasolina.\n",
    "\n",
    "Você pode pesquisar o [Yelp](https://www.yelp.com.br/) por meio de seu site ou com os aplicativos oficiais em dispositivos inteligentes iOS e Android. As listagens são classificadas por tipo de negócio e os resultados são filtrados por localização geográfica, faixa de preço e recursos exclusivos, como lugares ao ar livre, serviço de entrega ou capacidade de aceitar reservas.\n",
    "\n",
    "O Yelp tem um forte aspecto social e incentiva seus usuários a deixar comentários por escrito, avaliações com estrelas e fotos de sua experiência com cada empresa que visitam.\n",
    "\n",
    "Cada conta do Yelp possui uma lista de amigos que pode ser preenchida conectando o aplicativo ao Facebook e à agenda de endereços de um smartphone ou tablet. As resenhas postadas no Yelp também podem ser revisadas por outros usuários, enquanto os revisores populares têm o potencial de serem promovidos ao status Yelp Elite.\n",
    "<br />\n",
    "<br />\n",
    "<br />"
   ]
  },
  {
   "attachments": {},
   "cell_type": "markdown",
   "metadata": {},
   "source": [
    "### **Visão geral dos dados**\n",
    "O conjunto de dados do Yelp é um subconjunto de seus negócios, avaliações e dados de usuários para uso pessoal, educacional e acadêmico.\n",
    "\n",
    "[Link para download do dataset](https://www.yelp.com/dataset)"
   ]
  },
  {
   "cell_type": "markdown",
   "metadata": {},
   "source": [
    "Esse conjunto de dados é composto por 6 arquivos JSON:\n",
    "\n",
    "1. Business: Contém dados de negócios, incluindo dados de localização, atributos e categorias\n",
    "2. Review: Contém dados completos do texto da resenha, incluindo o user_id que escreveu a resenha e o business_id para o qual a resenha foi escrita\n",
    "3. User: Dados do usuário, incluindo o mapeamento de amigos do usuário e todos os metadados associados ao usuário\n",
    "4. Checkin: Check-ins em um negócio\n",
    "5. Tip: Dicas escritas por um usuário em um negócio. As dicas são mais curtas do que as avaliações e tendem a transmitir sugestões rápidas\n",
    "6. Photo: Contém dados da foto incluindo a legenda e classificação (uma de \"comida\", \"bebida\", \"cardápio\", \"dentro\" ou \"fora\")\n",
    "<br />\n",
    "<br />\n",
    "<br />"
   ]
  },
  {
   "attachments": {},
   "cell_type": "markdown",
   "metadata": {},
   "source": [
    "### **Dicionário de dados**\n",
    "\n",
    "[Link para o dicionário de dados](./SOURCES/1_Dicionario_de_dados.ipynb)\n",
    "<br />\n",
    "<br />\n",
    "<br />"
   ]
  },
  {
   "attachments": {},
   "cell_type": "markdown",
   "metadata": {},
   "source": [
    "### **Etapas do projeto**\n",
    "\n",
    "1. Business\n",
    "    * [Data wrangling + feature engineering](./SOURCES/2_Business_DW-FE.ipynb) [Concluído]\n",
    "    * [EDA](./SOURCES/3_Business_EDA.ipynb) [Em desenvolvimento]"
   ]
  },
  {
   "attachments": {},
   "cell_type": "markdown",
   "metadata": {},
   "source": [
    "19/04/2023"
   ]
  }
 ],
 "metadata": {
  "kernelspec": {
   "display_name": "Python 3.9.5 64-bit",
   "language": "python",
   "name": "python3"
  },
  "language_info": {
   "codemirror_mode": {
    "name": "ipython",
    "version": 3
   },
   "file_extension": ".py",
   "mimetype": "text/x-python",
   "name": "python",
   "nbconvert_exporter": "python",
   "pygments_lexer": "ipython3",
   "version": "3.11.2"
  },
  "orig_nbformat": 4,
  "vscode": {
   "interpreter": {
    "hash": "c9f6bc6e44df4cd9d5495b313982f52e3be4c1b2e56e3a5a86617fa1d9dab216"
   }
  }
 },
 "nbformat": 4,
 "nbformat_minor": 2
}
